{
 "cells": [
  {
   "cell_type": "markdown",
   "metadata": {
    "deletable": true,
    "editable": true
   },
   "source": [
    "# Exponential Smoothing\n",
    "\n",
    "Author : Nilesh Chaturvedi\n",
    "\n",
    "Date Created : 29th March, 2017\n",
    "\n",
    "Central Idea : f(n+1) = f(n) + alpha* (a(n) - f(n))\n",
    "\n",
    "where,\n",
    "      a(n)  : Raw value at nth point\n",
    "      \n",
    "      f(n)  : Smoothed value at nth point\n",
    "      \n",
    "      f(n+1): Smoothed value at (n+1)th point\n",
    "      \n",
    "      alpha : Smoothing rate"
   ]
  },
  {
   "cell_type": "code",
   "execution_count": null,
   "metadata": {
    "collapsed": false,
    "deletable": true,
    "editable": true
   },
   "outputs": [],
   "source": [
    "# Import libraries\n",
    "\n",
    "import csv\n",
    "import numpy\n",
    "import matplotlib.pylab as plt\n",
    "from ipywidgets import *\n",
    "from IPython.display import display\n",
    "import ipywidgets as widgets"
   ]
  },
  {
   "cell_type": "code",
   "execution_count": null,
   "metadata": {
    "collapsed": false,
    "deletable": true,
    "editable": true
   },
   "outputs": [],
   "source": [
    "# This funnction returns a numpy array of x and y coordinates.\n",
    "\n",
    "def load_data(filename):\n",
    "\n",
    "    reader = csv.reader(open(filename, \"r\"), delimiter = \"\\t\")\n",
    "    data_list= list(reader)\n",
    "    x_comp = []\n",
    "    y_comp = []\n",
    "\n",
    "    for i in data_list[1:]:\n",
    "        x_comp.append(i[4])\n",
    "        y_comp.append(i[5])\n",
    "\n",
    "    x_comp = numpy.array(x_comp, dtype = numpy.float)\n",
    "    y_comp = numpy.array(y_comp, dtype = numpy.float)\n",
    "\n",
    "    return x_comp, y_comp"
   ]
  },
  {
   "cell_type": "code",
   "execution_count": null,
   "metadata": {
    "collapsed": false,
    "deletable": true,
    "editable": true
   },
   "outputs": [],
   "source": [
    "# Smooth target data\n",
    "# Function returns a list.\n",
    "\n",
    "def filter(vector, smoothing_factor):\n",
    "    f_next = vector[0]\n",
    "    \n",
    "    smoothed_data = []\n",
    "    \n",
    "    for point in vector:\n",
    "        f_present = f_next\n",
    "        smoothed_data.append(f_next)\n",
    "        f_next = f_present + smoothing_factor*(point-f_present)\n",
    "        \n",
    "    return smoothed_data"
   ]
  },
  {
   "cell_type": "code",
   "execution_count": null,
   "metadata": {
    "collapsed": false,
    "deletable": true,
    "editable": true
   },
   "outputs": [],
   "source": [
    "def plot_data(smoothing_value):\n",
    "    filedata = load_data(\"testdata.csv\")\n",
    "\n",
    "    x = filter(filedata[0], smoothing_value)\n",
    "    y = filter(filedata[1], smoothing_value)\n",
    "\n",
    "    plt.plot(x, y, 'r', linewidth=3, label=\"Smoothened Data\")\n",
    "    plt.scatter(a[0],a[1],c='g', label = \"Raw Data\")\n",
    "    plt.grid()\n",
    "    plt.legend()\n",
    "    plt.show()"
   ]
  },
  {
   "cell_type": "code",
   "execution_count": null,
   "metadata": {
    "collapsed": false,
    "slideshow": {
     "slide_type": "-"
    }
   },
   "outputs": [],
   "source": [
    "i = interact(plot_data, smoothing_value=(0,1, 0.0001))"
   ]
  }
 ],
 "metadata": {
  "kernelspec": {
   "display_name": "Python 3",
   "language": "python",
   "name": "python3"
  },
  "language_info": {
   "codemirror_mode": {
    "name": "ipython",
    "version": 3
   },
   "file_extension": ".py",
   "mimetype": "text/x-python",
   "name": "python",
   "nbconvert_exporter": "python",
   "pygments_lexer": "ipython3",
   "version": "3.5.2+"
  }
 },
 "nbformat": 4,
 "nbformat_minor": 2
}
