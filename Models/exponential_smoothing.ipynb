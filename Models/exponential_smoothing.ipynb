{
 "cells": [
  {
   "cell_type": "markdown",
   "metadata": {
    "deletable": true,
    "editable": true
   },
   "source": [
    "# Exponential Smoothing\n",
    "\n",
    "Author : Nilesh Chaturvedi\n",
    "Date Created : 29th March, 2017\n",
    "\n",
    "Central Idea : f(n+1) = f(n) + alpha* (a(n) - f(n))\n",
    "\n",
    "where,\n",
    "      a(n)  : Raw value at nth point\n",
    "      \n",
    "      f(n)  : Smoothed value at nth point\n",
    "      \n",
    "      f(n+1): Smoothed value at (n+1)th point\n",
    "      \n",
    "      alpha : Smoothing rate"
   ]
  },
  {
   "cell_type": "code",
   "execution_count": 1,
   "metadata": {
    "collapsed": false,
    "deletable": true,
    "editable": true
   },
   "outputs": [],
   "source": [
    "# Import libraries\n",
    "\n",
    "import csv\n",
    "import numpy\n",
    "import matplotlib.pylab as plt\n",
    "from ipywidgets import *\n",
    "from IPython.display import display\n",
    "import ipywidgets as widgets"
   ]
  },
  {
   "cell_type": "code",
   "execution_count": 2,
   "metadata": {
    "collapsed": false,
    "deletable": true,
    "editable": true
   },
   "outputs": [],
   "source": [
    "# This funnction returns a numpy array of x and y coordinates.\n",
    "\n",
    "def load_data(filename):\n",
    "\n",
    "    reader = csv.reader(open(filename, \"r\"), delimiter = \"\\t\")\n",
    "    data_list= list(reader)\n",
    "    x_comp = []\n",
    "    y_comp = []\n",
    "\n",
    "    for i in data_list[1:]:\n",
    "        x_comp.append(i[4])\n",
    "        y_comp.append(i[5])\n",
    "\n",
    "    x_comp = numpy.array(x_comp, dtype = numpy.float)\n",
    "    y_comp = numpy.array(y_comp, dtype = numpy.float)\n",
    "\n",
    "    return x_comp, y_comp"
   ]
  },
  {
   "cell_type": "code",
   "execution_count": 3,
   "metadata": {
    "collapsed": true
   },
   "outputs": [],
   "source": [
    "def smoothing_value(value):\n",
    "    return value"
   ]
  },
  {
   "cell_type": "code",
   "execution_count": 12,
   "metadata": {
    "collapsed": false,
    "deletable": true,
    "editable": true
   },
   "outputs": [],
   "source": [
    "# Smooth target data\n",
    "# Function returns a list.\n",
    "\n",
    "def filter(vector, smoothing_factor):\n",
    "    f_next = vector[0]\n",
    "    \n",
    "    smoothed_data = []\n",
    "    \n",
    "    for point in vector:\n",
    "        f_present = f_next\n",
    "        smoothed_data.append(f_next)\n",
    "        f_next = f_present + smoothing_factor*(point-f_present)\n",
    "        \n",
    "    return smoothed_data"
   ]
  },
  {
   "cell_type": "code",
   "execution_count": 11,
   "metadata": {
    "collapsed": false,
    "deletable": true,
    "editable": true
   },
   "outputs": [
    {
     "data": {
      "text/plain": [
       "0.5"
      ]
     },
     "metadata": {},
     "output_type": "display_data"
    },
    {
     "name": "stderr",
     "output_type": "stream",
     "text": [
      "Widget Javascript not detected.  It may not be installed or enabled properly.\n"
     ]
    },
    {
     "data": {
      "application/vnd.jupyter.widget-view+json": {
       "model_id": "bfd079aeb8e546538c3f0f7c8b926f0d"
      }
     },
     "metadata": {},
     "output_type": "display_data"
    },
    {
     "data": {
      "image/png": "[encoded data removed]",
      "text/plain": [
       "<matplotlib.figure.Figure at 0x7fe6f0af4240>"
      ]
     },
     "metadata": {},
     "output_type": "display_data"
    }
   ],
   "source": [
    "if __name__ == \"__main__\":\n",
    "    a = load_data(\"testdata.csv\")\n",
    "    \n",
    "    # Value of the slider can further be changed to see change in the curve.\n",
    "    slider_value = widgets.FloatSlider(min=0, max=1, step=0.001, value=.5)\n",
    "    slider=widgets.interact(smoothing_value, value = slider_value)\n",
    "\n",
    "    x = filter(a[0], slider_value.value)\n",
    "    y = filter(a[1], slider_value.value)\n",
    "\n",
    "    display(slider_value)\n",
    "\n",
    "    plt.plot(x, y)\n",
    "    plt.show()"
   ]
  },
  {
   "cell_type": "code",
   "execution_count": null,
   "metadata": {
    "collapsed": true
   },
   "outputs": [],
   "source": []
  },
  {
   "cell_type": "code",
   "execution_count": null,
   "metadata": {
    "collapsed": true,
    "deletable": true,
    "editable": true
   },
   "outputs": [],
   "source": []
  }
 ],
 "metadata": {
  "kernelspec": {
   "display_name": "Python 3",
   "language": "python",
   "name": "python3"
  },
  "language_info": {
   "codemirror_mode": {
    "name": "ipython",
    "version": 3
   },
   "file_extension": ".py",
   "mimetype": "text/x-python",
   "name": "python",
   "nbconvert_exporter": "python",
   "pygments_lexer": "ipython3",
   "version": "3.5.2+"
  }
 },
 "nbformat": 4,
 "nbformat_minor": 2
}
